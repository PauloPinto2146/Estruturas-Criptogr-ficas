{
 "cells": [
  {
   "cell_type": "markdown",
   "id": "976ad1df-7a6a-4826-9526-b34697c9e28a",
   "metadata": {},
   "source": [
    "# Configuração do ambiente"
   ]
  },
  {
   "cell_type": "code",
   "execution_count": 1,
   "id": "779eecc6-0788-4de3-8baa-3d61af5c057a",
   "metadata": {},
   "outputs": [
    {
     "name": "stdout",
     "output_type": "stream",
     "text": [
      "Requirement already satisfied: cryptography in c:\\users\\paapm\\anaconda3\\envs\\estruturas_criptograficas\\lib\\site-packages (43.0.3)\n",
      "Requirement already satisfied: asyncio in c:\\users\\paapm\\anaconda3\\envs\\estruturas_criptograficas\\lib\\site-packages (3.4.3)\n",
      "Requirement already satisfied: cffi>=1.12 in c:\\users\\paapm\\anaconda3\\envs\\estruturas_criptograficas\\lib\\site-packages (from cryptography) (1.17.1)\n",
      "Requirement already satisfied: pycparser in c:\\users\\paapm\\anaconda3\\envs\\estruturas_criptograficas\\lib\\site-packages (from cffi>=1.12->cryptography) (2.21)\n",
      "Note: you may need to restart the kernel to use updated packages.\n"
     ]
    }
   ],
   "source": [
    "pip install cryptography asyncio"
   ]
  },
  {
   "cell_type": "markdown",
   "id": "49fe6c8c-8efc-4ffc-baf9-9bda05a8e527",
   "metadata": {},
   "source": [
    "### Iremos utilizar o asyncio e asyncio.StreamReader/StreamWriter para criar o servidor (Receiver) e o cliente (Emitter):\n",
    "\n",
    "    - O servidor escuta conexões e recebe mensagens criptografadas.\n",
    "    - O cliente envia mensagens criptografadas.\n",
    "    - A comunicação precisa de um mecanismo de cifra AEAD com SHAKE-256 e chaves derivadas via KDF."
   ]
  },
  {
   "cell_type": "code",
   "execution_count": 2,
   "id": "3f703af9-df1e-4afb-bacf-5e3b184d7c73",
   "metadata": {},
   "outputs": [
    {
     "name": "stdout",
     "output_type": "stream",
     "text": [
      "Execução terminada após 5 segundos.\n"
     ]
    }
   ],
   "source": [
    "import subprocess\n",
    "import time\n",
    "import threading\n",
    "\n",
    "# Função para ler e exibir a saída de um processo\n",
    "def print_output(process, name):\n",
    "    while True:\n",
    "        # Lê a saída (stdout e stderr)\n",
    "        output = process.stdout.readline()\n",
    "        error = process.stderr.readline()\n",
    "        \n",
    "        # Verifica se o processo terminou\n",
    "        if output == b'' and error == b'' and process.poll() is not None:\n",
    "            break\n",
    "        \n",
    "        # Exibe a saída\n",
    "        if output:\n",
    "            print(f\"[{name}] {output.strip().decode('utf-8')}\")\n",
    "        if error:\n",
    "            print(f\"[{name} - ERRO] {error.strip().decode('utf-8')}\")\n",
    "        \n",
    "        time.sleep(0.1)\n",
    "\n",
    "# Executa o Servidor.py em segundo plano (com buffering desativado)\n",
    "server_process = subprocess.Popen(\n",
    "    [\"python\", \"-u\", \"Servidor.py\"],  # -u desativa o buffering\n",
    "    stdout=subprocess.PIPE,\n",
    "    stderr=subprocess.PIPE,\n",
    "    text=True\n",
    ")\n",
    "\n",
    "# Executa o Cliente.py em segundo plano (com buffering desativado)\n",
    "client_process = subprocess.Popen(\n",
    "    [\"python\", \"-u\", \"Cliente.py\"],  # -u desativa o buffering\n",
    "    stdout=subprocess.PIPE,\n",
    "    stderr=subprocess.PIPE,\n",
    "    text=True\n",
    ")\n",
    "\n",
    "# Cria threads para exibir a saída dos processos\n",
    "server_thread = threading.Thread(target=print_output, args=(server_process, \"Servidor\"))\n",
    "client_thread = threading.Thread(target=print_output, args=(client_process, \"Cliente\"))\n",
    "\n",
    "# Inicia as threads\n",
    "server_thread.start()\n",
    "client_thread.start()\n",
    "\n",
    "# Termina os processos após 5 segundos\n",
    "server_process.terminate()\n",
    "client_process.terminate()\n",
    "\n",
    "# Aguarda as threads terminarem (opcional)\n",
    "server_thread.join(timeout=1)  # Timeout de 1 segundo para evitar bloqueio\n",
    "client_thread.join(timeout=1)  # Timeout de 1 segundo para evitar bloqueio\n",
    "\n",
    "print(\"Execução terminada após 5 segundos.\")"
   ]
  },
  {
   "cell_type": "code",
   "execution_count": null,
   "id": "3cba687a-c223-4f88-8fa3-940411330c7b",
   "metadata": {},
   "outputs": [],
   "source": []
  }
 ],
 "metadata": {
  "kernelspec": {
   "display_name": "Python 3 (ipykernel)",
   "language": "python",
   "name": "python3"
  },
  "language_info": {
   "codemirror_mode": {
    "name": "ipython",
    "version": 3
   },
   "file_extension": ".py",
   "mimetype": "text/x-python",
   "name": "python",
   "nbconvert_exporter": "python",
   "pygments_lexer": "ipython3",
   "version": "3.9.21"
  }
 },
 "nbformat": 4,
 "nbformat_minor": 5
}
