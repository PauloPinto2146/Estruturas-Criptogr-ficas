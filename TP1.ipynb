{
 "cells": [
  {
   "cell_type": "markdown",
   "id": "976ad1df-7a6a-4826-9526-b34697c9e28a",
   "metadata": {},
   "source": [
    "# Configuração do ambiente"
   ]
  },
  {
   "cell_type": "code",
   "execution_count": null,
   "id": "779eecc6-0788-4de3-8baa-3d61af5c057a",
   "metadata": {},
   "outputs": [],
   "source": [
    "pip install cryptography asyncio"
   ]
  },
  {
   "cell_type": "markdown",
   "id": "49fe6c8c-8efc-4ffc-baf9-9bda05a8e527",
   "metadata": {},
   "source": [
    "### Iremos utilizar o asyncio e asyncio.StreamReader/StreamWriter para criar o servidor (Receiver) e o cliente (Emitter):\n",
    "\n",
    "    - O servidor escuta conexões e recebe mensagens criptografadas.\n",
    "    - O cliente envia mensagens criptografadas.\n",
    "    - A comunicação precisa de um mecanismo de cifra AEAD com SHAKE-256 e chaves derivadas via KDF."
   ]
  },
  {
   "cell_type": "code",
   "execution_count": null,
   "id": "3f703af9-df1e-4afb-bacf-5e3b184d7c73",
   "metadata": {},
   "outputs": [],
   "source": [
    "import subprocess\n",
    "import time\n",
    "import threading\n",
    "\n",
    "# Função para ler e exibir a saída de um processo\n",
    "def print_output(process, name):\n",
    "    while True:\n",
    "        # Lê a saída (stdout e stderr)\n",
    "        output = process.stdout.readline()\n",
    "        error = process.stderr.readline()\n",
    "        \n",
    "        # Verifica se o processo terminou\n",
    "        if output == b'' and error == b'' and process.poll() is not None:\n",
    "            break\n",
    "        \n",
    "        # Exibe a saída\n",
    "        if output:\n",
    "            print(f\"[{name}] {output.strip().decode('utf-8')}\")\n",
    "        if error:\n",
    "            print(f\"[{name} - ERRO] {error.strip().decode('utf-8')}\")\n",
    "        \n",
    "        time.sleep(0.1)\n",
    "\n",
    "# Executa o Servidor.py em segundo plano (com buffering desativado)\n",
    "server_process = subprocess.Popen(\n",
    "    [\"python\", \"-u\", \"Servidor.py\"],  # -u desativa o buffering\n",
    "    stdout=subprocess.PIPE,\n",
    "    stderr=subprocess.PIPE,\n",
    "    text=True\n",
    ")\n",
    "\n",
    "# Executa o Cliente.py em segundo plano (com buffering desativado)\n",
    "client_process = subprocess.Popen(\n",
    "    [\"python\", \"-u\", \"Cliente.py\"],  # -u desativa o buffering\n",
    "    stdout=subprocess.PIPE,\n",
    "    stderr=subprocess.PIPE,\n",
    "    text=True\n",
    ")\n",
    "\n",
    "# Cria threads para exibir a saída dos processos\n",
    "server_thread = threading.Thread(target=print_output, args=(server_process, \"Servidor\"))\n",
    "client_thread = threading.Thread(target=print_output, args=(client_process, \"Cliente\"))\n",
    "\n",
    "# Inicia as threads\n",
    "server_thread.start()\n",
    "client_thread.start()\n",
    "\n",
    "# Termina os processos após 5 segundos\n",
    "server_process.terminate()\n",
    "client_process.terminate()\n",
    "\n",
    "# Aguarda as threads terminarem (opcional)\n",
    "server_thread.join(timeout=1)  # Timeout de 1 segundo para evitar bloqueio\n",
    "client_thread.join(timeout=1)  # Timeout de 1 segundo para evitar bloqueio\n",
    "\n",
    "print(\"Execução terminada após 5 segundos.\")"
   ]
  },
  {
   "cell_type": "code",
   "execution_count": null,
   "id": "2062438e",
   "metadata": {},
   "outputs": [
    {
     "name": "stdout",
     "output_type": "stream",
     "text": [
      "Iniciando servidor...\n",
      "Loop de eventos já em execução. Criando uma tarefa para o servidor...\n"
     ]
    },
    {
     "name": "stdout",
     "output_type": "stream",
     "text": [
      "Servidor iniciado!\n",
      "Cliente conectado!\n",
      "Defini nonce: b'\\xd1\\xf2W\\xa2\\xae\\xecy\\t\\xc7\\x074\\x8c\\x1d\\xb7\\xa5\\x9a', ciphertext: b\"\\x11'~\", tag b'\\xf1Nn\\xadf\\xf5\\x06\\xf9Q\\xd1\\xd6z\\xf8`w\\xe1'\n",
      "Mensagem Recebida e decifrada: Ola\n",
      "Cliente desconectado.\n",
      "Conexão com o cliente encerrada.\n"
     ]
    }
   ],
   "source": [
    "import asyncio\n",
    "from crypto_utils import decrypt_message\n",
    "\n",
    "key_receiver = b'minha_chave'\n",
    "\n",
    "async def handle_client(reader, writer):\n",
    "    \"\"\"Recebe mensagens criptografadas e decifra-as\"\"\"\n",
    "    print(\"Cliente conectado!\")\n",
    "    try:\n",
    "        while True:\n",
    "            data = await reader.read(1024)\n",
    "            if not data:\n",
    "                print(\"Cliente desconectado.\")\n",
    "                break\n",
    "\n",
    "            nonce, ciphertext, tag = data[:16], data[16:-16], data[-16:]\n",
    "            print(f\"Defini nonce: {nonce}, ciphertext: {ciphertext}, tag {tag}\")\n",
    "\n",
    "            message = decrypt_message(key_receiver, nonce, ciphertext, tag)\n",
    "            print(f\"Mensagem Recebida e decifrada: {message.decode()}\")\n",
    "\n",
    "    except Exception as e:\n",
    "        print(e)\n",
    "    finally:\n",
    "        writer.close()\n",
    "        await writer.wait_closed()\n",
    "        print(\"Conexão com o cliente encerrada.\")\n",
    "\n",
    "async def start_server():\n",
    "    \"\"\"Inicia o servidor\"\"\"\n",
    "    print(\"Servidor iniciado!\")\n",
    "    server = await asyncio.start_server(handle_client, '127.0.0.1', 8000)\n",
    "    async with server:\n",
    "        await server.serve_forever()\n",
    "\n",
    "print(\"Iniciando servidor...\")\n",
    "try:\n",
    "    loop = asyncio.get_running_loop()\n",
    "except RuntimeError:\n",
    "    loop = None\n",
    "\n",
    "if loop and loop.is_running():\n",
    "    print(\"Loop de eventos já em execução. Criando uma tarefa para o servidor...\")\n",
    "    task = asyncio.create_task(start_server())\n",
    "else:\n",
    "    print(\"Iniciando novo loop de eventos...\")\n",
    "    loop = asyncio.new_event_loop()\n",
    "    asyncio.set_event_loop(loop)\n",
    "    loop.create_task(start_server())"
   ]
  },
  {
   "cell_type": "code",
   "execution_count": 2,
   "id": "e9cc49b6",
   "metadata": {},
   "outputs": [
    {
     "name": "stdout",
     "output_type": "stream",
     "text": [
      "Iniciando cliente...\n",
      "Loop de eventos já em execução. Criando uma tarefa para o cliente...\n"
     ]
    },
    {
     "name": "stdout",
     "output_type": "stream",
     "text": [
      "Cliente inicializado!\n",
      "Cliente conectado\n",
      "     reader:  <StreamReader transport=<_SelectorSocketTransport fd=1528 read=polling write=<idle, bufsize=0>>>\n",
      "     writer:  <StreamWriter transport=<_SelectorSocketTransport fd=1528 read=polling write=<idle, bufsize=0>> reader=<StreamReader transport=<_SelectorSocketTransport fd=1528 read=polling write=<idle, bufsize=0>>>>\n",
      "Mensagem Enviada!\n"
     ]
    }
   ],
   "source": [
    "import asyncio\n",
    "from crypto_utils import encrypt_message\n",
    "\n",
    "# Defina a chave do emissor (deve ser a mesma usada no servidor)\n",
    "key_emitter = b'minha_chave'\n",
    "\n",
    "async def send_message(writer):\n",
    "    \"\"\"Envia uma mensagem criptografada para o servidor\"\"\"\n",
    "    message = \"Ola\"\n",
    "    \n",
    "    # Criptografa a mensagem (a mensagem já é codificada em bytes antes de ser passada para a função)\n",
    "    nonce, ciphertext, tag = encrypt_message(key_emitter, message)\n",
    "\n",
    "    writer.write(nonce + ciphertext + tag)\n",
    "    await writer.drain()\n",
    "\n",
    "    print(\"Mensagem Enviada!\")\n",
    "    writer.close()\n",
    "\n",
    "async def start_client():\n",
    "    \"\"\"Cliente que envia mensagens criptografadas\"\"\"\n",
    "    print(\"Cliente inicializado!\")\n",
    "    reader, writer = await asyncio.open_connection('127.0.0.1', 8000)\n",
    "    print(\"Cliente conectado\")\n",
    "    print(\"     reader: \", reader)\n",
    "    print(\"     writer: \", writer)\n",
    "\n",
    "    await send_message(writer)\n",
    "\n",
    "# Executa o cliente\n",
    "print(\"Iniciando cliente...\")\n",
    "try:\n",
    "    loop = asyncio.get_running_loop()\n",
    "except RuntimeError:\n",
    "    loop = None\n",
    "\n",
    "if loop and loop.is_running():\n",
    "    print(\"Loop de eventos já em execução. Criando uma tarefa para o cliente...\")\n",
    "    task = asyncio.create_task(start_client())\n",
    "else:\n",
    "    print(\"Iniciando novo loop de eventos para o cliente...\")\n",
    "    loop = asyncio.new_event_loop()\n",
    "    asyncio.set_event_loop(loop)\n",
    "    loop.create_task(start_client())"
   ]
  }
 ],
 "metadata": {
  "kernelspec": {
   "display_name": "ec",
   "language": "python",
   "name": "python3"
  },
  "language_info": {
   "codemirror_mode": {
    "name": "ipython",
    "version": 3
   },
   "file_extension": ".py",
   "mimetype": "text/x-python",
   "name": "python",
   "nbconvert_exporter": "python",
   "pygments_lexer": "ipython3",
   "version": "3.13.1"
  }
 },
 "nbformat": 4,
 "nbformat_minor": 5
}
