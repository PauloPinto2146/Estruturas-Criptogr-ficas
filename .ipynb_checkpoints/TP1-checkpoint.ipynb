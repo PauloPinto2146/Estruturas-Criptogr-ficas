{
 "cells": [
  {
   "cell_type": "markdown",
   "id": "530f14d8-803d-411b-98c0-6bf5024b77f7",
   "metadata": {},
   "source": [
    "## Enunciado do primeiro exercício de avaliação:"
   ]
  },
  {
   "cell_type": "markdown",
   "id": "58afc0ae-be59-43f1-88b5-1eae78d43576",
   "metadata": {},
   "source": [
    "**1.** Use a package cryptography    para  criar um comunicação privada assíncrona entre um agente Emitter e um agente Receiver que cubra os seguintes aspectos: \\\n",
    "    **a.** Comunicação cliente-servidor que use o package python `asyncio`.\\\n",
    "    **b.** Usar como cifra AEAD   o “hash” SHAKE-256  em modo XOFHash \\\n",
    "    **c.** As chaves de cifra  e  os “nounces” são gerados por um gerador KDF . As diferentes chaves para inicialização KDF  são inputs do emissor e do receptor."
   ]
  },
  {
   "cell_type": "markdown",
   "id": "ffdb31f4-d56d-4951-baf1-677a43c510e1",
   "metadata": {},
   "source": [
    "## Introdução"
   ]
  },
  {
   "cell_type": "markdown",
   "id": "cac9368b-58aa-471c-8093-3b9a4d654e7d",
   "metadata": {},
   "source": [
    "Este enunciado propõe a implementação de uma comunicação privada assíncrona entre dois agentes, Emitter (emissor) e Receiver (receptor), utilizando Python. \\\n",
    "O foco deste projeto está em criar uma comunicação segura e assíncrona com as bibliotecas `asyncio` e `criptography`. \\\n",
    "Baseado no que o enunciado pede o grupo 7 decidiu definir os seguintes **requisitos funcionais**:"
   ]
  },
  {
   "cell_type": "markdown",
   "id": "49fe6c8c-8efc-4ffc-baf9-9bda05a8e527",
   "metadata": {},
   "source": [
    "**RF1** - Deve haver uma lógica de cifraçãode mensagens através da cifra AEAD com hash SHAKE-256 em modo XOFHash\\\n",
    "**RF2** - Deve haver uma lógica de decifração de mensagens através da cifra AEAD com hash SHAKE-256 em modo XOFHash\\\n",
    "**RF3** - O servidor deve verificar a tag de autenticação antes de processar a mensagem do cliente \\\n",
    "**RF4** - Para efeitos de modularidade e para que a lógica de encriptação não esteja contida nos ficheiros de cliente e servidor deve-se criar um ficheiro à parte com as funções de encriptação \\\n",
    "**RF5** - O servidor fica à escuta de conexões do cliente \\\n",
    "**RF6** - O servidor deve ser capaz de receber mensagens criptografadas \\\n",
    "**RF7** - O servidor deve ser capaz de decifrar mensagens dada uma mesma chave entre cliente e servidor  \\\n",
    "**RF8** - O servidor deve guardar as conexões com cada utilizador guardando informação relevante \\\n",
    "**RF9** - O cliente envia mensagens cifradas dado o protocolo de cifragem \\\n",
    "**RF10** - O cliente quando envia a sua mensagem encriptada deve mandar também a tag de autenticação \\\n",
    "**RF11** - A troca de chaves é dada por input do cliente e do servidor \\\n",
    "**RF12** - Os nonce's são definidos por KDF "
   ]
  },
  {
   "cell_type": "markdown",
   "id": "eab83fb2-5e69-4e56-930c-b6254acfc770",
   "metadata": {},
   "source": [
    "Neste documento iremos mostrar como é que foram satisfeitos todos os requisitos funcionais estabelecidos explicando pretinentemente o raciocínio por de trás da implementação."
   ]
  },
  {
   "cell_type": "markdown",
   "id": "094276ca-f277-4f83-b8fa-14823ef71536",
   "metadata": {},
   "source": [
    "## **RF1** -  Deve haver uma lógica de cifração de mensagens através da cifra AEAD com hash SHAKE-256 em modo XOFHash"
   ]
  },
  {
   "cell_type": "markdown",
   "id": "aeafb7cd-9fae-4f42-9798-f23a2c846dbd",
   "metadata": {},
   "source": [
    "Para satisfazer este requisito funcional o grupo decidiu seguir o plano de implementação definido no capítulo 1 \"Primitivas Criptográficas Básicas\" mais concretamente na secção **Cifra AEAD usando o modelo \"sponge\"**."
   ]
  },
  {
   "cell_type": "markdown",
   "id": "fb4651c1-16a1-4aa6-8dd5-c05cea3d8281",
   "metadata": {},
   "source": [
    "Começamos por definir o estado inicial da função concatenando o vetor inicial (nonce) com a chave de cifração (dada por *input* do cliente e do servidor), assim como a função de Hash, neste caso **SHAKE256**, uma função de hash baseada na família SHA-3 de output extensível (XOFHash), neste caso de output de 256 bits fixo. Esta função de hash é das mais seguras atualmente como podemos observar nesta tabela de tempos de vida de hashes criptográficos populares:\n",
    "\n",
    "(fonte : https://valerieaurora.org/hash.html)"
   ]
  },
  {
   "cell_type": "markdown",
   "id": "547d7c65-e4d2-4ed3-9e09-785a18a14c1a",
   "metadata": {},
   "source": [
    "![Lifetimes of popular cryptographic hashes (the rainbow chart)](HashesLifetime.png)"
   ]
  },
  {
   "cell_type": "markdown",
   "id": "b0957429-38fc-406f-a574-2317b2b1d572",
   "metadata": {},
   "source": [
    "**Passo 1:** Definição de estado inicial aplicando a função de hash"
   ]
  },
  {
   "cell_type": "code",
   "execution_count": 1,
   "id": "b8b51b9c-3383-490a-9d47-9fca591c407f",
   "metadata": {},
   "outputs": [],
   "source": [
    "import os\n",
    "from cryptography.hazmat.primitives import hashes\n",
    "\n",
    "#Input aleatório de ambos os parâmetros (o input real do programa é dado de maneira diferente)\n",
    "key = os.urandom(32)\n",
    "nonce = os.urandom(16)\n",
    "\n",
    "\n",
    "iv_key = nonce + key   \n",
    "shake = hashes.Hash(hashes.SHAKE256(64))\n",
    "\n",
    "shake.update(iv_key)"
   ]
  },
  {
   "cell_type": "markdown",
   "id": "ff75f911-dcab-4762-99e9-0496a29f7b23",
   "metadata": {},
   "source": [
    "**Passo 2:** Absorver os dados associados "
   ]
  },
  {
   "cell_type": "code",
   "execution_count": 2,
   "id": "120739ee-2ab5-4eba-bdd1-cfba884942ba",
   "metadata": {},
   "outputs": [],
   "source": [
    "#Exemplo de dados associados\n",
    "associated_data = b'Isto sao dados associados que precisam ser processados em blocos.'\n",
    "block_size = 16\n",
    "for i in range(0, len(associated_data), block_size):\n",
    "    shake.update(associated_data[i:i + block_size])"
   ]
  },
  {
   "cell_type": "markdown",
   "id": "b270f053-be8f-40d1-8ee0-bbda47060aca",
   "metadata": {},
   "source": [
    "**Passo 3:** Processar a mensagem e fazer squeeze do ciphertext"
   ]
  },
  {
   "cell_type": "code",
   "execution_count": 3,
   "id": "80165aed-c95d-4490-9023-3352cd5026da",
   "metadata": {},
   "outputs": [
    {
     "name": "stdout",
     "output_type": "stream",
     "text": [
      "[CLIENTE] Absorvendo bloco: 4f6c61207365727669646f7221204573\n",
      "(Bloco original:  b'Ola servidor! Es' )\n",
      "[CLIENTE] Absorvendo bloco: 7065726f207175652065737461206d65\n",
      "(Bloco original:  b'pero que esta me' )\n",
      "[CLIENTE] Absorvendo bloco: 6e736167656d20657374656a6120656e\n",
      "(Bloco original:  b'nsagem esteja en' )\n",
      "[CLIENTE] Absorvendo bloco: 637269707461646121\n",
      "(Bloco original:  b'criptada!' )\n"
     ]
    }
   ],
   "source": [
    "#Exemplo de plaintext\n",
    "plaintext = b\"Ola servidor! Espero que esta mensagem esteja encriptada!\"\n",
    "\n",
    "ciphertext = b\"\"\n",
    "for i in range(0, len(plaintext), block_size):\n",
    "    block = plaintext[i:i + block_size]\n",
    "    keystream = shake.copy().finalize()[:len(block)]\n",
    "    ciphertext += bytes(a ^ b for a, b in zip(block, keystream))\n",
    "    print(f\"[CLIENTE] Absorvendo bloco: {block.hex()}\")\n",
    "    print(f\"(Bloco original: \",block, \")\")\n",
    "    shake.update(block)"
   ]
  },
  {
   "cell_type": "markdown",
   "id": "67059e02-9402-459b-8b6e-3bca9ab7e40c",
   "metadata": {},
   "source": [
    "**Passo 4:** Finalizar e gerar a tag de autenticação"
   ]
  },
  {
   "cell_type": "code",
   "execution_count": 4,
   "id": "2e384178-ec5c-4f80-bc54-fdc9e8dfcc20",
   "metadata": {},
   "outputs": [
    {
     "name": "stdout",
     "output_type": "stream",
     "text": [
      "ciphertext:  b\"\\xec\\x02\\xd6\\xb5\\x88@i\\xc6\\x1eS\\xfeO\\xe5\\xe9|\\xf4\\xe5\\x8e\\x00\\xc4>O\\xc2QG\\xe6'\\x9a\\x8d\\xe3\\x0f\\xef\\xf5L\\xa2\\xec\\xc5\\xec\\x8fo\\xfdJX\\xb3\\xc6\\xed\\xad\\x92\\xe4%\\xcf\\xcf\\x07c)\\xb0\\xb0\"\n",
      "tag:  b'\\x93\\x80k\\x89\\xe6\\xcc9\\x07>\\xc0\\x9d\\xd0\\xcad\\xc5V'\n"
     ]
    }
   ],
   "source": [
    "    #Passo 4: Finaliza e gera a Tag\n",
    "    state = shake.copy().finalize()[:block_size]\n",
    "\n",
    "    # XOR com K\n",
    "    state = bytes(a ^ b for a, b in zip(state, key))\n",
    "    # Aplica hash com esse novo estado\n",
    "    shake.update(state)\n",
    "    # Aplica um segundo XOR com K\n",
    "    state = bytes(a ^ b for a, b in zip(state, key))\n",
    "\n",
    "    # Finaliza tag\n",
    "    tag = shake.finalize()[:block_size]\n",
    "\n",
    "    print (\"ciphertext: \",ciphertext)\n",
    "    print (\"tag: \",tag)"
   ]
  },
  {
   "cell_type": "markdown",
   "id": "81b1046b-17bf-4d48-9da3-9314e5e0e90a",
   "metadata": {},
   "source": [
    "## **RF2** - Deve haver uma lógica de decifração de mensagens através da cifra AEAD com hash SHAKE-256 em modo XOFHash"
   ]
  },
  {
   "cell_type": "markdown",
   "id": "988485b4-e420-4ced-8b1a-8395c9063030",
   "metadata": {},
   "source": [
    "## **RF3** - O servidor deve verificar a tag de autenticação antes de processar a mensagem do cliente"
   ]
  },
  {
   "cell_type": "markdown",
   "id": "5a4d36a1-97d4-4ba7-9830-2502f1ec4e4f",
   "metadata": {},
   "source": [
    "## **RF4** -  Para efeitos de modularidade e para que a lógica de encriptação não esteja contida nos ficheiros de cliente e servidor deve-se criar um ficheiro à parte com as funções de encriptação"
   ]
  },
  {
   "cell_type": "markdown",
   "id": "aa133fbd-8d55-455a-a379-6d09645419b3",
   "metadata": {},
   "source": [
    "Como é possível comprovar a pasta contém um ficheiro **crypto_utils** onde está contida toda a lógica de cifração.\n",
    "\n",
    "O grupo 7 decidiu manter a encriptação num módulo à parte evitando que lógicas sensíveis fiquem expostas ou misturadas com código de rede, reduzindo a possibilidade de vulnerabilidades. Para além disso o código de servidor e cliente fica mais legível e há uma maior reutilização de código se necessário no futuro."
   ]
  },
  {
   "cell_type": "markdown",
   "id": "0030504f-562f-42d0-a7c1-13c981107dd0",
   "metadata": {},
   "source": [
    "## **RF5** - O servidor fica à escuta de conexões do cliente"
   ]
  },
  {
   "cell_type": "markdown",
   "id": "ebe7bbeb-4d86-475d-bbd3-3518e6670919",
   "metadata": {},
   "source": [
    "## **RF6** - O servidor deve ser capaz de receber mensagens criptografadas"
   ]
  },
  {
   "cell_type": "markdown",
   "id": "d24fa0ca-6cf1-4dd7-9792-995371b034a7",
   "metadata": {},
   "source": [
    "## **RF7** - O servidor deve ser capaz de decifrar mensagens dada uma mesma chave entre cliente e servidor "
   ]
  },
  {
   "cell_type": "markdown",
   "id": "87b9a334-fa9e-49a7-9948-23b542772825",
   "metadata": {},
   "source": [
    "## **RF8** - O servidor deve guardar as conexões com cada utilizador guardando informação relevante"
   ]
  },
  {
   "cell_type": "markdown",
   "id": "aa5f5d2b-f753-4113-8908-de31d274d14e",
   "metadata": {},
   "source": [
    "## **RF9** - O cliente envia mensagens cifradas dado o protocolo de cifragem"
   ]
  },
  {
   "cell_type": "markdown",
   "id": "8c6394af-571c-44c1-a59b-43f6333aff9b",
   "metadata": {},
   "source": [
    "## **RF10** - O cliente quando envia a sua mensagem encriptada deve mandar também a tag de autenticação"
   ]
  },
  {
   "cell_type": "markdown",
   "id": "ffc498c8-22f5-425c-90a6-d76e190fa608",
   "metadata": {},
   "source": [
    "## **RF11** - A troca de chaves é dada por input do cliente e do servidor"
   ]
  },
  {
   "cell_type": "markdown",
   "id": "e7167ce1-39bf-4740-b07b-f50ab7c58cd8",
   "metadata": {},
   "source": [
    "## **RF12** - Os nonce's são definidos por KDF "
   ]
  },
  {
   "cell_type": "code",
   "execution_count": 5,
   "id": "3f703af9-df1e-4afb-bacf-5e3b184d7c73",
   "metadata": {},
   "outputs": [
    {
     "name": "stdout",
     "output_type": "stream",
     "text": [
      "Execução terminada após 5 segundos.\n"
     ]
    }
   ],
   "source": [
    "import subprocess\n",
    "import time\n",
    "import threading\n",
    "\n",
    "# Função para ler e exibir a saída de um processo\n",
    "def print_output(process, name):\n",
    "    while True:\n",
    "        # Lê a saída (stdout e stderr)\n",
    "        output = process.stdout.readline()\n",
    "        error = process.stderr.readline()\n",
    "        \n",
    "        # Verifica se o processo terminou\n",
    "        if output == b'' and error == b'' and process.poll() is not None:\n",
    "            break\n",
    "        \n",
    "        # Exibe a saída\n",
    "        if output:\n",
    "            print(f\"[{name}] {output.strip().decode('utf-8')}\")\n",
    "        if error:\n",
    "            print(f\"[{name} - ERRO] {error.strip().decode('utf-8')}\")\n",
    "        \n",
    "        time.sleep(0.1)\n",
    "\n",
    "# Executa o Servidor.py em segundo plano (com buffering desativado)\n",
    "server_process = subprocess.Popen(\n",
    "    [\"python\", \"-u\", \"Servidor.py\"],  # -u desativa o buffering\n",
    "    stdout=subprocess.PIPE,\n",
    "    stderr=subprocess.PIPE,\n",
    "    text=True\n",
    ")\n",
    "\n",
    "# Executa o Cliente.py em segundo plano (com buffering desativado)\n",
    "client_process = subprocess.Popen(\n",
    "    [\"python\", \"-u\", \"Cliente.py\"],  # -u desativa o buffering\n",
    "    stdout=subprocess.PIPE,\n",
    "    stderr=subprocess.PIPE,\n",
    "    text=True\n",
    ")\n",
    "\n",
    "# Cria threads para exibir a saída dos processos\n",
    "server_thread = threading.Thread(target=print_output, args=(server_process, \"Servidor\"))\n",
    "client_thread = threading.Thread(target=print_output, args=(client_process, \"Cliente\"))\n",
    "\n",
    "# Inicia as threads\n",
    "server_thread.start()\n",
    "client_thread.start()\n",
    "\n",
    "# Termina os processos após 5 segundos\n",
    "server_process.terminate()\n",
    "client_process.terminate()\n",
    "\n",
    "# Aguarda as threads terminarem (opcional)\n",
    "server_thread.join(timeout=1)  # Timeout de 1 segundo para evitar bloqueio\n",
    "client_thread.join(timeout=1)  # Timeout de 1 segundo para evitar bloqueio\n",
    "\n",
    "print(\"Execução terminada após 5 segundos.\")"
   ]
  },
  {
   "cell_type": "code",
   "execution_count": 6,
   "id": "2062438e",
   "metadata": {},
   "outputs": [
    {
     "ename": "ImportError",
     "evalue": "cannot import name 'decrypt_message' from 'crypto_utils' (C:\\Users\\paapm\\Estruturas_Criptograficas\\crypto_utils.py)",
     "output_type": "error",
     "traceback": [
      "\u001b[1;31m---------------------------------------------------------------------------\u001b[0m",
      "\u001b[1;31mImportError\u001b[0m                               Traceback (most recent call last)",
      "Cell \u001b[1;32mIn[6], line 2\u001b[0m\n\u001b[0;32m      1\u001b[0m \u001b[38;5;28;01mimport\u001b[39;00m \u001b[38;5;21;01masyncio\u001b[39;00m\n\u001b[1;32m----> 2\u001b[0m \u001b[38;5;28;01mfrom\u001b[39;00m \u001b[38;5;21;01mcrypto_utils\u001b[39;00m \u001b[38;5;28;01mimport\u001b[39;00m decrypt_message\n\u001b[0;32m      4\u001b[0m key_receiver \u001b[38;5;241m=\u001b[39m \u001b[38;5;124mb\u001b[39m\u001b[38;5;124m'\u001b[39m\u001b[38;5;124mminha_chave\u001b[39m\u001b[38;5;124m'\u001b[39m\n\u001b[0;32m      6\u001b[0m \u001b[38;5;28;01masync\u001b[39;00m \u001b[38;5;28;01mdef\u001b[39;00m \u001b[38;5;21mhandle_client\u001b[39m(reader, writer):\n",
      "\u001b[1;31mImportError\u001b[0m: cannot import name 'decrypt_message' from 'crypto_utils' (C:\\Users\\paapm\\Estruturas_Criptograficas\\crypto_utils.py)"
     ]
    },
    {
     "name": "stdout",
     "output_type": "stream",
     "text": [
      "Servidor iniciado!\n",
      "Cliente conectado!\n",
      "Defini nonce: b'\\xd1\\xf2W\\xa2\\xae\\xecy\\t\\xc7\\x074\\x8c\\x1d\\xb7\\xa5\\x9a', ciphertext: b\"\\x11'~\", tag b'\\xf1Nn\\xadf\\xf5\\x06\\xf9Q\\xd1\\xd6z\\xf8`w\\xe1'\n",
      "Mensagem Recebida e decifrada: Ola\n",
      "Cliente desconectado.\n",
      "Conexão com o cliente encerrada.\n"
     ]
    }
   ],
   "source": [
    "import asyncio\n",
    "from crypto_utils import decrypt_message\n",
    "\n",
    "key_receiver = b'minha_chave'\n",
    "\n",
    "async def handle_client(reader, writer):\n",
    "    \"\"\"Recebe mensagens criptografadas e decifra-as\"\"\"\n",
    "    print(\"Cliente conectado!\")\n",
    "    try:\n",
    "        while True:\n",
    "            data = await reader.read(1024)\n",
    "            if not data:\n",
    "                print(\"Cliente desconectado.\")\n",
    "                break\n",
    "\n",
    "            nonce, ciphertext, tag = data[:16], data[16:-16], data[-16:]\n",
    "            print(f\"Defini nonce: {nonce}, ciphertext: {ciphertext}, tag {tag}\")\n",
    "\n",
    "            message = decrypt_message(key_receiver, nonce, ciphertext, tag)\n",
    "            print(f\"Mensagem Recebida e decifrada: {message.decode()}\")\n",
    "\n",
    "    except Exception as e:\n",
    "        print(e)\n",
    "    finally:\n",
    "        writer.close()\n",
    "        await writer.wait_closed()\n",
    "        print(\"Conexão com o cliente encerrada.\")\n",
    "\n",
    "async def start_server():\n",
    "    \"\"\"Inicia o servidor\"\"\"\n",
    "    print(\"Servidor iniciado!\")\n",
    "    server = await asyncio.start_server(handle_client, '127.0.0.1', 8000)\n",
    "    async with server:\n",
    "        await server.serve_forever()\n",
    "\n",
    "print(\"Iniciando servidor...\")\n",
    "try:\n",
    "    loop = asyncio.get_running_loop()\n",
    "except RuntimeError:\n",
    "    loop = None\n",
    "\n",
    "if loop and loop.is_running():\n",
    "    print(\"Loop de eventos já em execução. Criando uma tarefa para o servidor...\")\n",
    "    task = asyncio.create_task(start_server())\n",
    "else:\n",
    "    print(\"Iniciando novo loop de eventos...\")\n",
    "    loop = asyncio.new_event_loop()\n",
    "    asyncio.set_event_loop(loop)\n",
    "    loop.create_task(start_server())"
   ]
  },
  {
   "cell_type": "code",
   "execution_count": null,
   "id": "e9cc49b6",
   "metadata": {},
   "outputs": [
    {
     "name": "stdout",
     "output_type": "stream",
     "text": [
      "Cliente inicializado!\n",
      "Cliente conectado\n",
      "     reader:  <StreamReader transport=<_SelectorSocketTransport fd=1528 read=polling write=<idle, bufsize=0>>>\n",
      "     writer:  <StreamWriter transport=<_SelectorSocketTransport fd=1528 read=polling write=<idle, bufsize=0>> reader=<StreamReader transport=<_SelectorSocketTransport fd=1528 read=polling write=<idle, bufsize=0>>>>\n",
      "Mensagem Enviada!\n"
     ]
    }
   ],
   "source": [
    "import asyncio\n",
    "from crypto_utils import encrypt_message\n",
    "\n",
    "# Defina a chave do emissor (deve ser a mesma usada no servidor)\n",
    "key_emitter = b'minha_chave'\n",
    "\n",
    "async def send_message(writer):\n",
    "    \"\"\"Envia uma mensagem criptografada para o servidor\"\"\"\n",
    "    message = \"Ola\"\n",
    "    \n",
    "    # Criptografa a mensagem (a mensagem já é codificada em bytes antes de ser passada para a função)\n",
    "    nonce, ciphertext, tag = encrypt_message(key_emitter, message)\n",
    "\n",
    "    writer.write(nonce + ciphertext + tag)\n",
    "    await writer.drain()\n",
    "\n",
    "    print(\"Mensagem Enviada!\")\n",
    "    writer.close()\n",
    "\n",
    "async def start_client():\n",
    "    \"\"\"Cliente que envia mensagens criptografadas\"\"\"\n",
    "    print(\"Cliente inicializado!\")\n",
    "    reader, writer = await asyncio.open_connection('127.0.0.1', 8000)\n",
    "    print(\"Cliente conectado\")\n",
    "    print(\"     reader: \", reader)\n",
    "    print(\"     writer: \", writer)\n",
    "\n",
    "    await send_message(writer)\n",
    "\n",
    "# Executa o cliente\n",
    "print(\"Iniciando cliente...\")\n",
    "try:\n",
    "    loop = asyncio.get_running_loop()\n",
    "except RuntimeError:\n",
    "    loop = None\n",
    "\n",
    "if loop and loop.is_running():\n",
    "    print(\"Loop de eventos já em execução. Criando uma tarefa para o cliente...\")\n",
    "    task = asyncio.create_task(start_client())\n",
    "else:\n",
    "    print(\"Iniciando novo loop de eventos para o cliente...\")\n",
    "    loop = asyncio.new_event_loop()\n",
    "    asyncio.set_event_loop(loop)\n",
    "    loop.create_task(start_client())"
   ]
  }
 ],
 "metadata": {
  "kernelspec": {
   "display_name": "Python 3 (ipykernel)",
   "language": "python",
   "name": "python3"
  },
  "language_info": {
   "codemirror_mode": {
    "name": "ipython",
    "version": 3
   },
   "file_extension": ".py",
   "mimetype": "text/x-python",
   "name": "python",
   "nbconvert_exporter": "python",
   "pygments_lexer": "ipython3",
   "version": "3.9.21"
  }
 },
 "nbformat": 4,
 "nbformat_minor": 5
}
